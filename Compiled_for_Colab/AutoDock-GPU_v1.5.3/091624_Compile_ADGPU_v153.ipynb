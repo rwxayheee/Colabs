{
  "nbformat": 4,
  "nbformat_minor": 0,
  "metadata": {
    "colab": {
      "provenance": [],
      "gpuType": "T4"
    },
    "kernelspec": {
      "name": "python3",
      "display_name": "Python 3"
    },
    "language_info": {
      "name": "python"
    },
    "accelerator": "GPU"
  },
  "cells": [
    {
      "cell_type": "code",
      "execution_count": 1,
      "metadata": {
        "colab": {
          "base_uri": "https://localhost:8080/"
        },
        "id": "i1tKhOtyaDRW",
        "outputId": "1bae9b5b-0773-4578-dd1b-717541a58c08"
      },
      "outputs": [
        {
          "output_type": "stream",
          "name": "stdout",
          "text": [
            "Tue Sep 17 05:15:59 2024       \n",
            "+---------------------------------------------------------------------------------------+\n",
            "| NVIDIA-SMI 535.104.05             Driver Version: 535.104.05   CUDA Version: 12.2     |\n",
            "|-----------------------------------------+----------------------+----------------------+\n",
            "| GPU  Name                 Persistence-M | Bus-Id        Disp.A | Volatile Uncorr. ECC |\n",
            "| Fan  Temp   Perf          Pwr:Usage/Cap |         Memory-Usage | GPU-Util  Compute M. |\n",
            "|                                         |                      |               MIG M. |\n",
            "|=========================================+======================+======================|\n",
            "|   0  Tesla T4                       Off | 00000000:00:04.0 Off |                    0 |\n",
            "| N/A   46C    P8              10W /  70W |      0MiB / 15360MiB |      0%      Default |\n",
            "|                                         |                      |                  N/A |\n",
            "+-----------------------------------------+----------------------+----------------------+\n",
            "                                                                                         \n",
            "+---------------------------------------------------------------------------------------+\n",
            "| Processes:                                                                            |\n",
            "|  GPU   GI   CI        PID   Type   Process name                            GPU Memory |\n",
            "|        ID   ID                                                             Usage      |\n",
            "|=======================================================================================|\n",
            "|  No running processes found                                                           |\n",
            "+---------------------------------------------------------------------------------------+\n"
          ]
        }
      ],
      "source": [
        "!nvidia-smi"
      ]
    },
    {
      "cell_type": "code",
      "source": [
        "!nvcc --version"
      ],
      "metadata": {
        "colab": {
          "base_uri": "https://localhost:8080/"
        },
        "id": "rBjTug1vaKG0",
        "outputId": "d5f1fc65-ffed-449e-c9be-3d5fc037af00"
      },
      "execution_count": 2,
      "outputs": [
        {
          "output_type": "stream",
          "name": "stdout",
          "text": [
            "nvcc: NVIDIA (R) Cuda compiler driver\n",
            "Copyright (c) 2005-2023 NVIDIA Corporation\n",
            "Built on Tue_Aug_15_22:02:13_PDT_2023\n",
            "Cuda compilation tools, release 12.2, V12.2.140\n",
            "Build cuda_12.2.r12.2/compiler.33191640_0\n"
          ]
        }
      ]
    },
    {
      "cell_type": "code",
      "source": [
        "!gcc --version"
      ],
      "metadata": {
        "colab": {
          "base_uri": "https://localhost:8080/"
        },
        "id": "WpKNrYw5aOW2",
        "outputId": "881e0746-236a-465a-f7a8-37c4b4303fa2"
      },
      "execution_count": 3,
      "outputs": [
        {
          "output_type": "stream",
          "name": "stdout",
          "text": [
            "gcc (Ubuntu 11.4.0-1ubuntu1~22.04) 11.4.0\n",
            "Copyright (C) 2021 Free Software Foundation, Inc.\n",
            "This is free software; see the source for copying conditions.  There is NO\n",
            "warranty; not even for MERCHANTABILITY or FITNESS FOR A PARTICULAR PURPOSE.\n",
            "\n"
          ]
        }
      ]
    },
    {
      "cell_type": "code",
      "source": [
        "!git clone https://github.com/ccsb-scripps/AutoDock-GPU.git; cd AutoDock-GPU; git checkout release"
      ],
      "metadata": {
        "colab": {
          "base_uri": "https://localhost:8080/"
        },
        "id": "NjIhR68eaQDu",
        "outputId": "f654fc9d-a096-4afb-be31-2215c3ede0a0"
      },
      "execution_count": 7,
      "outputs": [
        {
          "output_type": "stream",
          "name": "stdout",
          "text": [
            "Cloning into 'AutoDock-GPU'...\n",
            "remote: Enumerating objects: 6723, done.\u001b[K\n",
            "remote: Counting objects: 100% (426/426), done.\u001b[K\n",
            "remote: Compressing objects: 100% (243/243), done.\u001b[K\n",
            "remote: Total 6723 (delta 234), reused 324 (delta 176), pack-reused 6297 (from 1)\u001b[K\n",
            "Receiving objects: 100% (6723/6723), 45.64 MiB | 26.90 MiB/s, done.\n",
            "Resolving deltas: 100% (4424/4424), done.\n",
            "Branch 'release' set up to track remote branch 'release' from 'origin'.\n",
            "Switched to a new branch 'release'\n"
          ]
        }
      ]
    },
    {
      "cell_type": "code",
      "source": [
        "!export CUDAROOT=/usr/local/cuda-12.2;\n",
        "!cd AutoDock-GPU; make DEVICE=CUDA NUMWI=128\\\n",
        "GPU_INCLUDE_PATH=/usr/local/cuda-12.2/include/ GPU_LIBRARY_PATH=/usr/local/cuda-12.2/lib64/"
      ],
      "metadata": {
        "colab": {
          "base_uri": "https://localhost:8080/"
        },
        "id": "b7uDN8Iiaxeu",
        "outputId": "aa671e14-3259-405a-b8cf-19b12d4c6b27"
      },
      "execution_count": 9,
      "outputs": [
        {
          "output_type": "stream",
          "name": "stdout",
          "text": [
            "rm -f ./host/inc/performdocking.h ./host/src/performdocking.cpp\n",
            "Building adgpu_analysis ...\n",
            "g++ \\\n",
            "./host/src/calcenergy.cpp ./host/src/getparameters.cpp ./host/src/main.cpp ./host/src/miscellaneous.cpp ./host/src/processgrid.cpp ./host/src/processligand.cpp ./host/src/processresult.cpp ./host/src/setup.cpp \\\n",
            "-std=c++11 -I./common -I./host/inc -DVERSION=\\\"v1.5.3\\\" \\\n",
            "-o./bin/adgpu_analysis \\\n",
            " -O3 -DTOOLMODE \n",
            "DEVICE is set to GPU\n",
            " \n",
            "CPU_INCLUDE_PATH is undefined\n",
            "CPU_LIBRARY_PATH is undefined\n",
            " \n",
            "GPU_INCLUDE_PATH is set to /usr/local/cuda-12.2/include/\n",
            "GPU_LIBRARY_PATH is set to /usr/local/cuda-12.2/lib64/\n",
            " \n",
            "nvcc -DN128WI  -use_fast_math --ptxas-options=\"-v\" -gencode arch=compute_52,code=sm_52 -gencode arch=compute_60,code=sm_60 -gencode arch=compute_61,code=sm_61 -gencode arch=compute_70,code=sm_70 -std=c++11 -I./common -I./host/inc -I/usr/local/cuda-12.2/include/ -I./cuda  -c ./cuda/kernels.cu\n",
            "ptxas info    : 0 bytes gmem, 288 bytes cmem[3]\n",
            "ptxas info    : Compiling entry function '_Z27gpu_gradient_minAdam_kernelPfS_' for 'sm_52'\n",
            "ptxas info    : Function properties for _Z27gpu_gradient_minAdam_kernelPfS_\n",
            "    0 bytes stack frame, 0 bytes spill stores, 0 bytes spill loads\n",
            "ptxas info    : Used 64 registers, 7416 bytes smem, 336 bytes cmem[0], 112 bytes cmem[2]\n",
            "ptxas info    : Compiling entry function '_Z25gpu_gradient_minAD_kernelPfS_' for 'sm_52'\n",
            "ptxas info    : Function properties for _Z25gpu_gradient_minAD_kernelPfS_\n",
            "    0 bytes stack frame, 0 bytes spill stores, 0 bytes spill loads\n",
            "ptxas info    : Used 64 registers, 7428 bytes smem, 336 bytes cmem[0], 120 bytes cmem[2]\n",
            "ptxas info    : Compiling entry function '_Z31gpu_gen_and_eval_newpops_kernelPfS_S_S_' for 'sm_52'\n",
            "ptxas info    : Function properties for _Z31gpu_gen_and_eval_newpops_kernelPfS_S_S_\n",
            "    0 bytes stack frame, 0 bytes spill stores, 0 bytes spill loads\n",
            "ptxas info    : Used 48 registers, 3672 bytes smem, 352 bytes cmem[0], 44 bytes cmem[2]\n",
            "ptxas info    : Compiling entry function '_Z21gpu_perform_LS_kernelPfS_' for 'sm_52'\n",
            "ptxas info    : Function properties for _Z21gpu_perform_LS_kernelPfS_\n",
            "    0 bytes stack frame, 0 bytes spill stores, 0 bytes spill loads\n",
            "ptxas info    : Used 40 registers, 4112 bytes smem, 336 bytes cmem[0], 44 bytes cmem[2]\n",
            "ptxas info    : Compiling entry function '_Z20gpu_sum_evals_kernelv' for 'sm_52'\n",
            "ptxas info    : Function properties for _Z20gpu_sum_evals_kernelv\n",
            "    0 bytes stack frame, 0 bytes spill stores, 0 bytes spill loads\n",
            "ptxas info    : Used 13 registers, 4 bytes smem, 320 bytes cmem[0]\n",
            "ptxas info    : Compiling entry function '_Z23gpu_calc_initpop_kernelPfS_' for 'sm_52'\n",
            "ptxas info    : Function properties for _Z23gpu_calc_initpop_kernelPfS_\n",
            "    0 bytes stack frame, 0 bytes spill stores, 0 bytes spill loads\n",
            "ptxas info    : Used 48 registers, 3076 bytes smem, 336 bytes cmem[0], 36 bytes cmem[2]\n",
            "ptxas info    : 0 bytes gmem, 288 bytes cmem[3]\n",
            "ptxas info    : Compiling entry function '_Z27gpu_gradient_minAdam_kernelPfS_' for 'sm_60'\n",
            "ptxas info    : Function properties for _Z27gpu_gradient_minAdam_kernelPfS_\n",
            "    0 bytes stack frame, 0 bytes spill stores, 0 bytes spill loads\n",
            "ptxas info    : Used 64 registers, 7416 bytes smem, 336 bytes cmem[0], 112 bytes cmem[2]\n",
            "ptxas info    : Compiling entry function '_Z25gpu_gradient_minAD_kernelPfS_' for 'sm_60'\n",
            "ptxas info    : Function properties for _Z25gpu_gradient_minAD_kernelPfS_\n",
            "    0 bytes stack frame, 0 bytes spill stores, 0 bytes spill loads\n",
            "ptxas info    : Used 64 registers, 7428 bytes smem, 336 bytes cmem[0], 120 bytes cmem[2]\n",
            "ptxas info    : Compiling entry function '_Z31gpu_gen_and_eval_newpops_kernelPfS_S_S_' for 'sm_60'\n",
            "ptxas info    : Function properties for _Z31gpu_gen_and_eval_newpops_kernelPfS_S_S_\n",
            "    0 bytes stack frame, 0 bytes spill stores, 0 bytes spill loads\n",
            "ptxas info    : Used 48 registers, 3672 bytes smem, 352 bytes cmem[0], 44 bytes cmem[2]\n",
            "ptxas info    : Compiling entry function '_Z21gpu_perform_LS_kernelPfS_' for 'sm_60'\n",
            "ptxas info    : Function properties for _Z21gpu_perform_LS_kernelPfS_\n",
            "    0 bytes stack frame, 0 bytes spill stores, 0 bytes spill loads\n",
            "ptxas info    : Used 40 registers, 4112 bytes smem, 336 bytes cmem[0], 44 bytes cmem[2]\n",
            "ptxas info    : Compiling entry function '_Z20gpu_sum_evals_kernelv' for 'sm_60'\n",
            "ptxas info    : Function properties for _Z20gpu_sum_evals_kernelv\n",
            "    0 bytes stack frame, 0 bytes spill stores, 0 bytes spill loads\n",
            "ptxas info    : Used 13 registers, 4 bytes smem, 320 bytes cmem[0]\n",
            "ptxas info    : Compiling entry function '_Z23gpu_calc_initpop_kernelPfS_' for 'sm_60'\n",
            "ptxas info    : Function properties for _Z23gpu_calc_initpop_kernelPfS_\n",
            "    0 bytes stack frame, 0 bytes spill stores, 0 bytes spill loads\n",
            "ptxas info    : Used 48 registers, 3076 bytes smem, 336 bytes cmem[0], 36 bytes cmem[2]\n",
            "ptxas info    : 0 bytes gmem, 288 bytes cmem[3]\n",
            "ptxas info    : Compiling entry function '_Z27gpu_gradient_minAdam_kernelPfS_' for 'sm_61'\n",
            "ptxas info    : Function properties for _Z27gpu_gradient_minAdam_kernelPfS_\n",
            "    0 bytes stack frame, 0 bytes spill stores, 0 bytes spill loads\n",
            "ptxas info    : Used 64 registers, 7416 bytes smem, 336 bytes cmem[0], 112 bytes cmem[2]\n",
            "ptxas info    : Compiling entry function '_Z25gpu_gradient_minAD_kernelPfS_' for 'sm_61'\n",
            "ptxas info    : Function properties for _Z25gpu_gradient_minAD_kernelPfS_\n",
            "    0 bytes stack frame, 0 bytes spill stores, 0 bytes spill loads\n",
            "ptxas info    : Used 64 registers, 7428 bytes smem, 336 bytes cmem[0], 120 bytes cmem[2]\n",
            "ptxas info    : Compiling entry function '_Z31gpu_gen_and_eval_newpops_kernelPfS_S_S_' for 'sm_61'\n",
            "ptxas info    : Function properties for _Z31gpu_gen_and_eval_newpops_kernelPfS_S_S_\n",
            "    0 bytes stack frame, 0 bytes spill stores, 0 bytes spill loads\n",
            "ptxas info    : Used 48 registers, 3672 bytes smem, 352 bytes cmem[0], 44 bytes cmem[2]\n",
            "ptxas info    : Compiling entry function '_Z21gpu_perform_LS_kernelPfS_' for 'sm_61'\n",
            "ptxas info    : Function properties for _Z21gpu_perform_LS_kernelPfS_\n",
            "    0 bytes stack frame, 0 bytes spill stores, 0 bytes spill loads\n",
            "ptxas info    : Used 40 registers, 4112 bytes smem, 336 bytes cmem[0], 44 bytes cmem[2]\n",
            "ptxas info    : Compiling entry function '_Z20gpu_sum_evals_kernelv' for 'sm_61'\n",
            "ptxas info    : Function properties for _Z20gpu_sum_evals_kernelv\n",
            "    0 bytes stack frame, 0 bytes spill stores, 0 bytes spill loads\n",
            "ptxas info    : Used 13 registers, 4 bytes smem, 320 bytes cmem[0]\n",
            "ptxas info    : Compiling entry function '_Z23gpu_calc_initpop_kernelPfS_' for 'sm_61'\n",
            "ptxas info    : Function properties for _Z23gpu_calc_initpop_kernelPfS_\n",
            "    0 bytes stack frame, 0 bytes spill stores, 0 bytes spill loads\n",
            "ptxas info    : Used 48 registers, 3076 bytes smem, 336 bytes cmem[0], 36 bytes cmem[2]\n",
            "ptxas info    : 0 bytes gmem, 288 bytes cmem[3]\n",
            "ptxas info    : Compiling entry function '_Z27gpu_gradient_minAdam_kernelPfS_' for 'sm_70'\n",
            "ptxas info    : Function properties for _Z27gpu_gradient_minAdam_kernelPfS_\n",
            "    0 bytes stack frame, 0 bytes spill stores, 0 bytes spill loads\n",
            "ptxas info    : Used 64 registers, 7416 bytes smem, 368 bytes cmem[0]\n",
            "ptxas info    : Compiling entry function '_Z25gpu_gradient_minAD_kernelPfS_' for 'sm_70'\n",
            "ptxas info    : Function properties for _Z25gpu_gradient_minAD_kernelPfS_\n",
            "    0 bytes stack frame, 0 bytes spill stores, 0 bytes spill loads\n",
            "ptxas info    : Used 64 registers, 7428 bytes smem, 368 bytes cmem[0]\n",
            "ptxas info    : Compiling entry function '_Z31gpu_gen_and_eval_newpops_kernelPfS_S_S_' for 'sm_70'\n",
            "ptxas info    : Function properties for _Z31gpu_gen_and_eval_newpops_kernelPfS_S_S_\n",
            "    0 bytes stack frame, 0 bytes spill stores, 0 bytes spill loads\n",
            "ptxas info    : Used 48 registers, 3672 bytes smem, 384 bytes cmem[0]\n",
            "ptxas info    : Compiling entry function '_Z21gpu_perform_LS_kernelPfS_' for 'sm_70'\n",
            "ptxas info    : Function properties for _Z21gpu_perform_LS_kernelPfS_\n",
            "    0 bytes stack frame, 0 bytes spill stores, 0 bytes spill loads\n",
            "ptxas info    : Used 40 registers, 4112 bytes smem, 368 bytes cmem[0]\n",
            "ptxas info    : Compiling entry function '_Z20gpu_sum_evals_kernelv' for 'sm_70'\n",
            "ptxas info    : Function properties for _Z20gpu_sum_evals_kernelv\n",
            "    0 bytes stack frame, 0 bytes spill stores, 0 bytes spill loads\n",
            "ptxas info    : Used 15 registers, 4 bytes smem, 352 bytes cmem[0]\n",
            "ptxas info    : Compiling entry function '_Z23gpu_calc_initpop_kernelPfS_' for 'sm_70'\n",
            "ptxas info    : Function properties for _Z23gpu_calc_initpop_kernelPfS_\n",
            "    0 bytes stack frame, 0 bytes spill stores, 0 bytes spill loads\n",
            "ptxas info    : Used 48 registers, 3076 bytes smem, 368 bytes cmem[0]\n",
            "ln -sf performdocking.h.Cuda ./host/inc/performdocking.h\n",
            "ln -sf performdocking.cpp.Cuda ./host/src/performdocking.cpp\n",
            "Building autodock_gpu_128wi ...\n",
            "g++ \\\n",
            "./host/src/calcenergy.cpp ./host/src/getparameters.cpp ./host/src/main.cpp ./host/src/miscellaneous.cpp ./host/src/performdocking.cpp ./host/src/processgrid.cpp ./host/src/processligand.cpp ./host/src/processresult.cpp ./host/src/setup.cpp \\\n",
            "-std=c++11 -I./common -I./host/inc -I/usr/local/cuda-12.2/include/ -I./cuda -L/usr/local/cuda-12.2/lib64/ -Wl,-rpath=/usr/local/cuda-12.2/lib64/: -DVERSION=\\\"v1.5.3\\\" \\\n",
            "kernels.o -lcurand -lcudart  \\\n",
            "-o./bin/autodock_gpu_128wi \\\n",
            "-DGPU_DEVICE -DN128WI  -O3   \n"
          ]
        }
      ]
    },
    {
      "cell_type": "code",
      "source": [],
      "metadata": {
        "id": "MWjRk8eubH3b"
      },
      "execution_count": null,
      "outputs": []
    }
  ]
}