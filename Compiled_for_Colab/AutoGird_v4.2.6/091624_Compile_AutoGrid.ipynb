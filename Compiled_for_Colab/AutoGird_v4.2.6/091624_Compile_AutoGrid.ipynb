{
  "nbformat": 4,
  "nbformat_minor": 0,
  "metadata": {
    "colab": {
      "provenance": []
    },
    "kernelspec": {
      "name": "python3",
      "display_name": "Python 3"
    },
    "language_info": {
      "name": "python"
    }
  },
  "cells": [
    {
      "cell_type": "code",
      "execution_count": 1,
      "metadata": {
        "colab": {
          "base_uri": "https://localhost:8080/"
        },
        "id": "i1tKhOtyaDRW",
        "outputId": "6c795443-1210-488b-e22a-ab4cb2763def"
      },
      "outputs": [
        {
          "output_type": "stream",
          "name": "stdout",
          "text": [
            "/bin/bash: line 1: nvidia-smi: command not found\n"
          ]
        }
      ],
      "source": [
        "!nvidia-smi"
      ]
    },
    {
      "cell_type": "code",
      "source": [
        "!nvcc --version"
      ],
      "metadata": {
        "colab": {
          "base_uri": "https://localhost:8080/"
        },
        "id": "rBjTug1vaKG0",
        "outputId": "90912fba-f74a-4f8d-813e-58d46a78b300"
      },
      "execution_count": 2,
      "outputs": [
        {
          "output_type": "stream",
          "name": "stdout",
          "text": [
            "nvcc: NVIDIA (R) Cuda compiler driver\n",
            "Copyright (c) 2005-2023 NVIDIA Corporation\n",
            "Built on Tue_Aug_15_22:02:13_PDT_2023\n",
            "Cuda compilation tools, release 12.2, V12.2.140\n",
            "Build cuda_12.2.r12.2/compiler.33191640_0\n"
          ]
        }
      ]
    },
    {
      "cell_type": "code",
      "source": [
        "!gcc --version"
      ],
      "metadata": {
        "colab": {
          "base_uri": "https://localhost:8080/"
        },
        "id": "WpKNrYw5aOW2",
        "outputId": "f8ff7da0-7a56-4992-bd0f-dc472a3af9d4"
      },
      "execution_count": 3,
      "outputs": [
        {
          "output_type": "stream",
          "name": "stdout",
          "text": [
            "gcc (Ubuntu 11.4.0-1ubuntu1~22.04) 11.4.0\n",
            "Copyright (C) 2021 Free Software Foundation, Inc.\n",
            "This is free software; see the source for copying conditions.  There is NO\n",
            "warranty; not even for MERCHANTABILITY or FITNESS FOR A PARTICULAR PURPOSE.\n",
            "\n"
          ]
        }
      ]
    },
    {
      "cell_type": "code",
      "source": [
        "!git clone https://github.com/forlilab/waterkit.git"
      ],
      "metadata": {
        "colab": {
          "base_uri": "https://localhost:8080/"
        },
        "id": "NjIhR68eaQDu",
        "outputId": "c8a2877d-3f90-4210-b4b9-198465ef7176"
      },
      "execution_count": 12,
      "outputs": [
        {
          "output_type": "stream",
          "name": "stdout",
          "text": [
            "Cloning into 'waterkit'...\n",
            "remote: Enumerating objects: 3037, done.\u001b[K\n",
            "remote: Counting objects:   0% (1/714)\u001b[K\rremote: Counting objects:   1% (8/714)\u001b[K\rremote: Counting objects:   2% (15/714)\u001b[K\rremote: Counting objects:   3% (22/714)\u001b[K\rremote: Counting objects:   4% (29/714)\u001b[K\rremote: Counting objects:   5% (36/714)\u001b[K\rremote: Counting objects:   6% (43/714)\u001b[K\rremote: Counting objects:   7% (50/714)\u001b[K\rremote: Counting objects:   8% (58/714)\u001b[K\rremote: Counting objects:   9% (65/714)\u001b[K\rremote: Counting objects:  10% (72/714)\u001b[K\rremote: Counting objects:  11% (79/714)\u001b[K\rremote: Counting objects:  12% (86/714)\u001b[K\rremote: Counting objects:  13% (93/714)\u001b[K\rremote: Counting objects:  14% (100/714)\u001b[K\rremote: Counting objects:  15% (108/714)\u001b[K\rremote: Counting objects:  16% (115/714)\u001b[K\rremote: Counting objects:  17% (122/714)\u001b[K\rremote: Counting objects:  18% (129/714)\u001b[K\rremote: Counting objects:  19% (136/714)\u001b[K\rremote: Counting objects:  20% (143/714)\u001b[K\rremote: Counting objects:  21% (150/714)\u001b[K\rremote: Counting objects:  22% (158/714)\u001b[K\rremote: Counting objects:  23% (165/714)\u001b[K\rremote: Counting objects:  24% (172/714)\u001b[K\rremote: Counting objects:  25% (179/714)\u001b[K\rremote: Counting objects:  26% (186/714)\u001b[K\rremote: Counting objects:  27% (193/714)\u001b[K\rremote: Counting objects:  28% (200/714)\u001b[K\rremote: Counting objects:  29% (208/714)\u001b[K\rremote: Counting objects:  30% (215/714)\u001b[K\rremote: Counting objects:  31% (222/714)\u001b[K\rremote: Counting objects:  32% (229/714)\u001b[K\rremote: Counting objects:  33% (236/714)\u001b[K\rremote: Counting objects:  34% (243/714)\u001b[K\rremote: Counting objects:  35% (250/714)\u001b[K\rremote: Counting objects:  36% (258/714)\u001b[K\rremote: Counting objects:  37% (265/714)\u001b[K\rremote: Counting objects:  38% (272/714)\u001b[K\rremote: Counting objects:  39% (279/714)\u001b[K\rremote: Counting objects:  40% (286/714)\u001b[K\rremote: Counting objects:  41% (293/714)\u001b[K\rremote: Counting objects:  42% (300/714)\u001b[K\rremote: Counting objects:  43% (308/714)\u001b[K\rremote: Counting objects:  44% (315/714)\u001b[K\rremote: Counting objects:  45% (322/714)\u001b[K\rremote: Counting objects:  46% (329/714)\u001b[K\rremote: Counting objects:  47% (336/714)\u001b[K\rremote: Counting objects:  48% (343/714)\u001b[K\rremote: Counting objects:  49% (350/714)\u001b[K\rremote: Counting objects:  50% (357/714)\u001b[K\rremote: Counting objects:  51% (365/714)\u001b[K\rremote: Counting objects:  52% (372/714)\u001b[K\rremote: Counting objects:  53% (379/714)\u001b[K\rremote: Counting objects:  54% (386/714)\u001b[K\rremote: Counting objects:  55% (393/714)\u001b[K\rremote: Counting objects:  56% (400/714)\u001b[K\rremote: Counting objects:  57% (407/714)\u001b[K\rremote: Counting objects:  58% (415/714)\u001b[K\rremote: Counting objects:  59% (422/714)\u001b[K\rremote: Counting objects:  60% (429/714)\u001b[K\rremote: Counting objects:  61% (436/714)\u001b[K\rremote: Counting objects:  62% (443/714)\u001b[K\rremote: Counting objects:  63% (450/714)\u001b[K\rremote: Counting objects:  64% (457/714)\u001b[K\rremote: Counting objects:  65% (465/714)\u001b[K\rremote: Counting objects:  66% (472/714)\u001b[K\rremote: Counting objects:  67% (479/714)\u001b[K\rremote: Counting objects:  68% (486/714)\u001b[K\rremote: Counting objects:  69% (493/714)\u001b[K\rremote: Counting objects:  70% (500/714)\u001b[K\rremote: Counting objects:  71% (507/714)\u001b[K\rremote: Counting objects:  72% (515/714)\u001b[K\rremote: Counting objects:  73% (522/714)\u001b[K\rremote: Counting objects:  74% (529/714)\u001b[K\rremote: Counting objects:  75% (536/714)\u001b[K\rremote: Counting objects:  76% (543/714)\u001b[K\rremote: Counting objects:  77% (550/714)\u001b[K\rremote: Counting objects:  78% (557/714)\u001b[K\rremote: Counting objects:  79% (565/714)\u001b[K\rremote: Counting objects:  80% (572/714)\u001b[K\rremote: Counting objects:  81% (579/714)\u001b[K\rremote: Counting objects:  82% (586/714)\u001b[K\rremote: Counting objects:  83% (593/714)\u001b[K\rremote: Counting objects:  84% (600/714)\u001b[K\rremote: Counting objects:  85% (607/714)\u001b[K\rremote: Counting objects:  86% (615/714)\u001b[K\rremote: Counting objects:  87% (622/714)\u001b[K\rremote: Counting objects:  88% (629/714)\u001b[K\rremote: Counting objects:  89% (636/714)\u001b[K\rremote: Counting objects:  90% (643/714)\u001b[K\rremote: Counting objects:  91% (650/714)\u001b[K\rremote: Counting objects:  92% (657/714)\u001b[K\rremote: Counting objects:  93% (665/714)\u001b[K\rremote: Counting objects:  94% (672/714)\u001b[K\rremote: Counting objects:  95% (679/714)\u001b[K\rremote: Counting objects:  96% (686/714)\u001b[K\rremote: Counting objects:  97% (693/714)\u001b[K\rremote: Counting objects:  98% (700/714)\u001b[K\rremote: Counting objects:  99% (707/714)\u001b[K\rremote: Counting objects: 100% (714/714)\u001b[K\rremote: Counting objects: 100% (714/714), done.\u001b[K\n",
            "remote: Compressing objects: 100% (318/318), done.\u001b[K\n",
            "remote: Total 3037 (delta 396), reused 702 (delta 392), pack-reused 2323 (from 1)\u001b[K\n",
            "Receiving objects: 100% (3037/3037), 176.09 MiB | 17.72 MiB/s, done.\n",
            "Resolving deltas: 100% (2008/2008), done.\n",
            "Updating files: 100% (506/506), done.\n"
          ]
        }
      ]
    },
    {
      "cell_type": "code",
      "source": [
        "!cd waterkit/autodocksuite-4.2.6-src/autogrid; autoreconf -i; ./configure; make; make install"
      ],
      "metadata": {
        "colab": {
          "base_uri": "https://localhost:8080/"
        },
        "id": "b7uDN8Iiaxeu",
        "outputId": "f80e011f-0a35-4bff-aa2f-69bc439db2d1"
      },
      "execution_count": 27,
      "outputs": [
        {
          "output_type": "stream",
          "name": "stdout",
          "text": [
            "configure.ac:27: warning: The macro `AC_HEADER_STDC' is obsolete.\n",
            "configure.ac:27: You should run autoupdate.\n",
            "./lib/autoconf/headers.m4:704: AC_HEADER_STDC is expanded from...\n",
            "configure.ac:27: the top level\n",
            "checking for a BSD-compatible install... /usr/bin/install -c\n",
            "checking whether build environment is sane... yes\n",
            "/content/waterkit/autodocksuite-4.2.6-src/autogrid/missing: Unknown '--is-lightweight' option\n",
            "Try '/content/waterkit/autodocksuite-4.2.6-src/autogrid/missing --help' for more information\n",
            "configure: WARNING: 'missing' script is too old or missing\n",
            "checking for a race-free mkdir -p... /usr/bin/mkdir -p\n",
            "checking for gawk... no\n",
            "checking for mawk... mawk\n",
            "checking whether make sets $(MAKE)... yes\n",
            "checking whether make supports nested variables... yes\n",
            "checking for g++... g++\n",
            "checking whether the C++ compiler works... yes\n",
            "checking for C++ compiler default output file name... a.out\n",
            "checking for suffix of executables... \n",
            "checking whether we are cross compiling... no\n",
            "checking for suffix of object files... o\n",
            "checking whether the compiler supports GNU C++... yes\n",
            "checking whether g++ accepts -g... yes\n",
            "checking for g++ option to enable C++11 features... none needed\n",
            "checking whether make supports the include directive... yes (GNU style)\n",
            "checking dependency style of g++... gcc3\n",
            "checking build system type... x86_64-unknown-linux-gnu\n",
            "checking host system type... x86_64-unknown-linux-gnu\n",
            "checking for gcc... gcc\n",
            "checking whether the compiler supports GNU C... yes\n",
            "checking whether gcc accepts -g... yes\n",
            "checking for gcc option to enable C11 features... none needed\n",
            "checking whether gcc understands -c and -o together... yes\n",
            "checking dependency style of gcc... gcc3\n",
            "checking for sqrt in -lm... yes\n",
            "checking for stdio.h... yes\n",
            "checking for stdlib.h... yes\n",
            "checking for string.h... yes\n",
            "checking for inttypes.h... yes\n",
            "checking for stdint.h... yes\n",
            "checking for strings.h... yes\n",
            "checking for sys/stat.h... yes\n",
            "checking for sys/types.h... yes\n",
            "checking for unistd.h... yes\n",
            "checking for grep that handles long lines and -e... /usr/bin/grep\n",
            "checking for egrep... /usr/bin/grep -E\n",
            "checking for _Bool... yes\n",
            "checking for stdbool.h that conforms to C99... yes\n",
            "checking for an ANSI C-conforming const... yes\n",
            "checking whether struct tm is in sys/time.h or time.h... time.h\n",
            "checking for GNU libc compatible malloc... yes\n",
            "checking for gethostname... yes\n",
            "checking for getpid... yes\n",
            "checking for GetProcessId... no\n",
            "checking for fchmod... yes\n",
            "checking for setlinebuf... yes\n",
            "checking for sysconf... yes\n",
            "checking for times... yes\n",
            "checking for getrusage... yes\n",
            "checking for pow... yes\n",
            "checking for sqrt... yes\n",
            "checking for strncasecmp... yes\n",
            "checking that generated files are newer than configure... done\n",
            "configure: creating ./config.status\n",
            "config.status: creating Makefile\n",
            "config.status: executing depfiles commands\n",
            "make  all-am\n",
            "make[1]: Entering directory '/content/waterkit/autodocksuite-4.2.6-src/autogrid'\n",
            "make[1]: Nothing to be done for 'all-am'.\n",
            "make[1]: Leaving directory '/content/waterkit/autodocksuite-4.2.6-src/autogrid'\n",
            "make  install-am\n",
            "make[1]: Entering directory '/content/waterkit/autodocksuite-4.2.6-src/autogrid'\n",
            "make[2]: Entering directory '/content/waterkit/autodocksuite-4.2.6-src/autogrid'\n",
            " /usr/bin/mkdir -p '/usr/local/bin'\n",
            "  /usr/bin/install -c autogrid4 '/usr/local/bin'\n",
            "make[2]: Nothing to be done for 'install-data-am'.\n",
            "make[2]: Leaving directory '/content/waterkit/autodocksuite-4.2.6-src/autogrid'\n",
            "make[1]: Leaving directory '/content/waterkit/autodocksuite-4.2.6-src/autogrid'\n"
          ]
        }
      ]
    },
    {
      "cell_type": "code",
      "source": [
        "! cp /usr/local/bin/autogrid4 /content/autogrid4"
      ],
      "metadata": {
        "id": "MWjRk8eubH3b"
      },
      "execution_count": 28,
      "outputs": []
    }
  ]
}